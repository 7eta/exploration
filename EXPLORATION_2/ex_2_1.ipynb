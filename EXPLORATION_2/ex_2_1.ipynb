{
 "cells": [
  {
   "cell_type": "code",
   "execution_count": 1,
   "id": "d5c7513f",
   "metadata": {},
   "outputs": [
    {
     "name": "stdout",
     "output_type": "stream",
     "text": [
      "(442, 10)\n",
      "(442, 1)\n"
     ]
    }
   ],
   "source": [
    "# (1)데이터 가져오기\n",
    "from sklearn.datasets import load_diabetes\n",
    "import pandas as pd\n",
    "import numpy as np\n",
    "diabetes=load_diabetes()\n",
    "df_X=pd.DataFrame(diabetes.data, columns=diabetes.feature_names)\n",
    "df_y=pd.DataFrame(diabetes.target, columns=['target'])\n",
    "print(df_X.shape)\n",
    "print(df_y.shape)\n",
    "# print(type(df_X))\n",
    "# print(type(df_y))"
   ]
  },
  {
   "cell_type": "code",
   "execution_count": 2,
   "id": "70d81bb1",
   "metadata": {},
   "outputs": [],
   "source": [
    "# (2) 모델에 입력할 데이터 X 준비하기\n",
    "X = df_X.values"
   ]
  },
  {
   "cell_type": "code",
   "execution_count": 3,
   "id": "e873b8f2",
   "metadata": {},
   "outputs": [],
   "source": [
    "# (3) 모델에 예측할 데이터 y 준비하기\n",
    "Y = df_y['target'].values"
   ]
  },
  {
   "cell_type": "code",
   "execution_count": 4,
   "id": "137df4ec",
   "metadata": {},
   "outputs": [],
   "source": [
    "# (4) train 데이터와 test 데이터로 분리하기\n",
    "from sklearn.model_selection import train_test_split\n",
    "X_train, X_test, y_train, y_test = train_test_split(X, Y, test_size=0.2, random_state=1)"
   ]
  },
  {
   "cell_type": "code",
   "execution_count": 5,
   "id": "bd8e1148",
   "metadata": {},
   "outputs": [],
   "source": [
    "# (5) 모델 준비하기\n",
    "W = np.random.rand(10)\n",
    "b = np.random.rand()\n",
    "# 모델함수\n",
    "def model(X, W, b):\n",
    "    predictions = 0\n",
    "    for i in range(10):\n",
    "        predictions += X[:, i] * W[i]\n",
    "    predictions += b\n",
    "    return predictions"
   ]
  },
  {
   "cell_type": "code",
   "execution_count": 6,
   "id": "d8210850",
   "metadata": {},
   "outputs": [],
   "source": [
    "# (6) 손실함수 loss 정의하기\n",
    "def MSE(a, b):\n",
    "    mse = ((a - b) ** 2).mean()  # 두 값의 차이의 제곱의 평균\n",
    "    return mse\n",
    "def loss(X, W, b, y):\n",
    "    predictions = model(X, W, b)\n",
    "    L = MSE(predictions, y)\n",
    "    return L"
   ]
  },
  {
   "cell_type": "code",
   "execution_count": 7,
   "id": "cabde8e8",
   "metadata": {},
   "outputs": [],
   "source": [
    "# (7) 기울기를 구하는 gradient 함수 구현하기\n",
    "def gradient(X, W, b, y):\n",
    "    # N은 데이터 포인트의 개수\n",
    "    N = len(y)\n",
    "    \n",
    "    # y_pred 준비\n",
    "    y_pred = model(X, W, b)\n",
    "    \n",
    "    # 공식에 맞게 gradient 계산\n",
    "    dW = 1/N * 2 * X.T.dot(y_pred - y)\n",
    "        \n",
    "    # b의 gradient 계산\n",
    "    db = 2 * (y_pred - y).mean()\n",
    "    return dW, db"
   ]
  },
  {
   "cell_type": "code",
   "execution_count": 8,
   "id": "d50cae29",
   "metadata": {},
   "outputs": [],
   "source": [
    "# (8) 하이퍼 파라미터인 학습률 설정하기\n",
    "LEARNING_RATE = 0.005"
   ]
  },
  {
   "cell_type": "code",
   "execution_count": 9,
   "id": "e76f6a39",
   "metadata": {},
   "outputs": [
    {
     "name": "stdout",
     "output_type": "stream",
     "text": [
      "Iteration 20000 : Loss 3384.4114\n",
      "test mse : 3298.1960463104515\n",
      "Iteration 40000 : Loss 3046.0257\n",
      "test mse : 3092.04342569945\n",
      "Iteration 60000 : Loss 2931.7129\n",
      "test mse : 3033.011977962766\n",
      "Iteration 80000 : Loss 2885.1234\n",
      "test mse : 3018.7572064747387\n"
     ]
    }
   ],
   "source": [
    "# (9) 모델 학습하기\n",
    "losses = []\n",
    "\n",
    "for i in range(1, 80001):#이 경우 반복을 늘리면 성능이 더 안좋아졌다\n",
    "    dW, db = gradient(X_train, W, b, y_train)\n",
    "    W -= LEARNING_RATE * dW\n",
    "    b -= LEARNING_RATE * db\n",
    "    L = loss(X_train, W, b, y_train)\n",
    "    losses.append(L)\n",
    "    if i % 20000 == 0:\n",
    "        print('Iteration %d : Loss %0.4f' % (i, L))\n",
    "        prediction = model(X_test, W, b)\n",
    "        mse = loss(X_test, W, b, y_test)\n",
    "        print('test mse : ' + str(mse))"
   ]
  },
  {
   "cell_type": "code",
   "execution_count": 10,
   "id": "718367b9",
   "metadata": {},
   "outputs": [
    {
     "data": {
      "text/plain": [
       "3018.7572064747387"
      ]
     },
     "execution_count": 10,
     "metadata": {},
     "output_type": "execute_result"
    }
   ],
   "source": [
    "# (10) test 데이터에 대한 성능 확인하기\n",
    "import matplotlib.pyplot as plt\n",
    "prediction = model(X_test, W, b)\n",
    "mse = loss(X_test, W, b, y_test)\n",
    "mse\n"
   ]
  },
  {
   "cell_type": "code",
   "execution_count": 11,
   "id": "cc0abdfa",
   "metadata": {},
   "outputs": [
    {
     "data": {
      "image/png": "[encoded data removed]",
      "text/plain": [
       "<Figure size 432x288 with 1 Axes>"
      ]
     },
     "metadata": {
      "needs_background": "light"
     },
     "output_type": "display_data"
    }
   ],
   "source": [
    "# (11) 정답 데이터와 예측한 데이터 시각화하기\n",
    "plt.scatter(X_test[:, 0], y_test)\n",
    "plt.scatter(X_test[:, 0], prediction)\n",
    "plt.show()"
   ]
  },
  {
   "cell_type": "code",
   "execution_count": 12,
   "id": "148042d1",
   "metadata": {},
   "outputs": [
    {
     "data": {
      "text/html": [
       "<div>\n",
       "<style scoped>\n",
       "    .dataframe tbody tr th:only-of-type {\n",
       "        vertical-align: middle;\n",
       "    }\n",
       "\n",
       "    .dataframe tbody tr th {\n",
       "        vertical-align: top;\n",
       "    }\n",
       "\n",
       "    .dataframe thead th {\n",
       "        text-align: right;\n",
       "    }\n",
       "</style>\n",
       "<table border=\"1\" class=\"dataframe\">\n",
       "  <thead>\n",
       "    <tr style=\"text-align: right;\">\n",
       "      <th></th>\n",
       "      <th>age</th>\n",
       "      <th>sex</th>\n",
       "      <th>bmi</th>\n",
       "      <th>bp</th>\n",
       "      <th>s1</th>\n",
       "      <th>s2</th>\n",
       "      <th>s3</th>\n",
       "      <th>s4</th>\n",
       "      <th>s5</th>\n",
       "      <th>s6</th>\n",
       "      <th>target</th>\n",
       "    </tr>\n",
       "  </thead>\n",
       "  <tbody>\n",
       "    <tr>\n",
       "      <th>age</th>\n",
       "      <td>1.000000</td>\n",
       "      <td>0.173737</td>\n",
       "      <td>0.185085</td>\n",
       "      <td>0.335427</td>\n",
       "      <td>0.260061</td>\n",
       "      <td>0.219243</td>\n",
       "      <td>-0.075181</td>\n",
       "      <td>0.203841</td>\n",
       "      <td>0.270777</td>\n",
       "      <td>0.301731</td>\n",
       "      <td>0.187889</td>\n",
       "    </tr>\n",
       "    <tr>\n",
       "      <th>sex</th>\n",
       "      <td>0.173737</td>\n",
       "      <td>1.000000</td>\n",
       "      <td>0.088161</td>\n",
       "      <td>0.241013</td>\n",
       "      <td>0.035277</td>\n",
       "      <td>0.142637</td>\n",
       "      <td>-0.379090</td>\n",
       "      <td>0.332115</td>\n",
       "      <td>0.149918</td>\n",
       "      <td>0.208133</td>\n",
       "      <td>0.043062</td>\n",
       "    </tr>\n",
       "    <tr>\n",
       "      <th>bmi</th>\n",
       "      <td>0.185085</td>\n",
       "      <td>0.088161</td>\n",
       "      <td>1.000000</td>\n",
       "      <td>0.395415</td>\n",
       "      <td>0.249777</td>\n",
       "      <td>0.261170</td>\n",
       "      <td>-0.366811</td>\n",
       "      <td>0.413807</td>\n",
       "      <td>0.446159</td>\n",
       "      <td>0.388680</td>\n",
       "      <td>0.586450</td>\n",
       "    </tr>\n",
       "    <tr>\n",
       "      <th>bp</th>\n",
       "      <td>0.335427</td>\n",
       "      <td>0.241013</td>\n",
       "      <td>0.395415</td>\n",
       "      <td>1.000000</td>\n",
       "      <td>0.242470</td>\n",
       "      <td>0.185558</td>\n",
       "      <td>-0.178761</td>\n",
       "      <td>0.257653</td>\n",
       "      <td>0.393478</td>\n",
       "      <td>0.390429</td>\n",
       "      <td>0.441484</td>\n",
       "    </tr>\n",
       "    <tr>\n",
       "      <th>s1</th>\n",
       "      <td>0.260061</td>\n",
       "      <td>0.035277</td>\n",
       "      <td>0.249777</td>\n",
       "      <td>0.242470</td>\n",
       "      <td>1.000000</td>\n",
       "      <td>0.896663</td>\n",
       "      <td>0.051519</td>\n",
       "      <td>0.542207</td>\n",
       "      <td>0.515501</td>\n",
       "      <td>0.325717</td>\n",
       "      <td>0.212022</td>\n",
       "    </tr>\n",
       "    <tr>\n",
       "      <th>s2</th>\n",
       "      <td>0.219243</td>\n",
       "      <td>0.142637</td>\n",
       "      <td>0.261170</td>\n",
       "      <td>0.185558</td>\n",
       "      <td>0.896663</td>\n",
       "      <td>1.000000</td>\n",
       "      <td>-0.196455</td>\n",
       "      <td>0.659817</td>\n",
       "      <td>0.318353</td>\n",
       "      <td>0.290600</td>\n",
       "      <td>0.174054</td>\n",
       "    </tr>\n",
       "    <tr>\n",
       "      <th>s3</th>\n",
       "      <td>-0.075181</td>\n",
       "      <td>-0.379090</td>\n",
       "      <td>-0.366811</td>\n",
       "      <td>-0.178761</td>\n",
       "      <td>0.051519</td>\n",
       "      <td>-0.196455</td>\n",
       "      <td>1.000000</td>\n",
       "      <td>-0.738493</td>\n",
       "      <td>-0.398577</td>\n",
       "      <td>-0.273697</td>\n",
       "      <td>-0.394789</td>\n",
       "    </tr>\n",
       "    <tr>\n",
       "      <th>s4</th>\n",
       "      <td>0.203841</td>\n",
       "      <td>0.332115</td>\n",
       "      <td>0.413807</td>\n",
       "      <td>0.257653</td>\n",
       "      <td>0.542207</td>\n",
       "      <td>0.659817</td>\n",
       "      <td>-0.738493</td>\n",
       "      <td>1.000000</td>\n",
       "      <td>0.617857</td>\n",
       "      <td>0.417212</td>\n",
       "      <td>0.430453</td>\n",
       "    </tr>\n",
       "    <tr>\n",
       "      <th>s5</th>\n",
       "      <td>0.270777</td>\n",
       "      <td>0.149918</td>\n",
       "      <td>0.446159</td>\n",
       "      <td>0.393478</td>\n",
       "      <td>0.515501</td>\n",
       "      <td>0.318353</td>\n",
       "      <td>-0.398577</td>\n",
       "      <td>0.617857</td>\n",
       "      <td>1.000000</td>\n",
       "      <td>0.464670</td>\n",
       "      <td>0.565883</td>\n",
       "    </tr>\n",
       "    <tr>\n",
       "      <th>s6</th>\n",
       "      <td>0.301731</td>\n",
       "      <td>0.208133</td>\n",
       "      <td>0.388680</td>\n",
       "      <td>0.390429</td>\n",
       "      <td>0.325717</td>\n",
       "      <td>0.290600</td>\n",
       "      <td>-0.273697</td>\n",
       "      <td>0.417212</td>\n",
       "      <td>0.464670</td>\n",
       "      <td>1.000000</td>\n",
       "      <td>0.382483</td>\n",
       "    </tr>\n",
       "    <tr>\n",
       "      <th>target</th>\n",
       "      <td>0.187889</td>\n",
       "      <td>0.043062</td>\n",
       "      <td>0.586450</td>\n",
       "      <td>0.441484</td>\n",
       "      <td>0.212022</td>\n",
       "      <td>0.174054</td>\n",
       "      <td>-0.394789</td>\n",
       "      <td>0.430453</td>\n",
       "      <td>0.565883</td>\n",
       "      <td>0.382483</td>\n",
       "      <td>1.000000</td>\n",
       "    </tr>\n",
       "  </tbody>\n",
       "</table>\n",
       "</div>"
      ],
      "text/plain": [
       "             age       sex       bmi        bp        s1        s2        s3  \\\n",
       "age     1.000000  0.173737  0.185085  0.335427  0.260061  0.219243 -0.075181   \n",
       "sex     0.173737  1.000000  0.088161  0.241013  0.035277  0.142637 -0.379090   \n",
       "bmi     0.185085  0.088161  1.000000  0.395415  0.249777  0.261170 -0.366811   \n",
       "bp      0.335427  0.241013  0.395415  1.000000  0.242470  0.185558 -0.178761   \n",
       "s1      0.260061  0.035277  0.249777  0.242470  1.000000  0.896663  0.051519   \n",
       "s2      0.219243  0.142637  0.261170  0.185558  0.896663  1.000000 -0.196455   \n",
       "s3     -0.075181 -0.379090 -0.366811 -0.178761  0.051519 -0.196455  1.000000   \n",
       "s4      0.203841  0.332115  0.413807  0.257653  0.542207  0.659817 -0.738493   \n",
       "s5      0.270777  0.149918  0.446159  0.393478  0.515501  0.318353 -0.398577   \n",
       "s6      0.301731  0.208133  0.388680  0.390429  0.325717  0.290600 -0.273697   \n",
       "target  0.187889  0.043062  0.586450  0.441484  0.212022  0.174054 -0.394789   \n",
       "\n",
       "              s4        s5        s6    target  \n",
       "age     0.203841  0.270777  0.301731  0.187889  \n",
       "sex     0.332115  0.149918  0.208133  0.043062  \n",
       "bmi     0.413807  0.446159  0.388680  0.586450  \n",
       "bp      0.257653  0.393478  0.390429  0.441484  \n",
       "s1      0.542207  0.515501  0.325717  0.212022  \n",
       "s2      0.659817  0.318353  0.290600  0.174054  \n",
       "s3     -0.738493 -0.398577 -0.273697 -0.394789  \n",
       "s4      1.000000  0.617857  0.417212  0.430453  \n",
       "s5      0.617857  1.000000  0.464670  0.565883  \n",
       "s6      0.417212  0.464670  1.000000  0.382483  \n",
       "target  0.430453  0.565883  0.382483  1.000000  "
      ]
     },
     "execution_count": 12,
     "metadata": {},
     "output_type": "execute_result"
    }
   ],
   "source": [
    "# 필요없는 칼럼 확인\n",
    "pd.concat([df_X,df_y],axis=1).corr()\n"
   ]
  },
  {
   "cell_type": "code",
   "execution_count": 13,
   "id": "e46ebc4d",
   "metadata": {},
   "outputs": [],
   "source": [
    "# print(df_X.drop(labels='sex',axis=1))\n",
    "X = df_X.drop(labels=['sex','s2'],axis=1).values   #필요없는 sex 칼럼 삭제 및 X 재지정\n",
    "X_train, X_test, y_train, y_test = train_test_split(X, Y, test_size=0.2, random_state=1)   #학습/테스트셋 다시 만들기\n",
    "\n",
    "# 가중치 및 모델함수 재지정\n",
    "W = np.random.rand(8)\n",
    "b = np.random.rand()\n",
    "# 모델함수\n",
    "def model(X, W, b):\n",
    "    predictions = 0\n",
    "    for i in range(8):\n",
    "        predictions += X[:, i] * W[i]\n",
    "    predictions += b\n",
    "    return predictions"
   ]
  },
  {
   "cell_type": "code",
   "execution_count": 14,
   "id": "f45d97a5",
   "metadata": {},
   "outputs": [
    {
     "name": "stdout",
     "output_type": "stream",
     "text": [
      "Iteration 20000 : Loss 3033.1748\n",
      "test mse : 3067.830157153494\n",
      "Iteration 40000 : Loss 2980.9447\n",
      "test mse : 3027.5374988227254\n",
      "Iteration 60000 : Loss 2972.9581\n",
      "test mse : 3016.9470253576505\n",
      "Iteration 80000 : Loss 2971.2713\n",
      "test mse : 3011.6712546825506\n",
      "Iteration 100000 : Loss 2970.8394\n",
      "test mse : 3008.5583540965354\n",
      "Iteration 120000 : Loss 2970.7006\n",
      "test mse : 3006.6357487042415\n",
      "Iteration 140000 : Loss 2970.6387\n",
      "test mse : 3005.3947595551726\n",
      "Iteration 160000 : Loss 2970.6006\n",
      "test mse : 3004.5436627409285\n",
      "Iteration 180000 : Loss 2970.5726\n",
      "test mse : 3003.918336573805\n",
      "Iteration 200000 : Loss 2970.5504\n",
      "test mse : 3003.4285306155884\n",
      "Iteration 220000 : Loss 2970.5324\n",
      "test mse : 3003.025007690023\n",
      "Iteration 240000 : Loss 2970.5177\n",
      "test mse : 3002.6806296665172\n",
      "Iteration 260000 : Loss 2970.5056\n",
      "test mse : 3002.379978139782\n",
      "Iteration 280000 : Loss 2970.4957\n",
      "test mse : 3002.1138299981308\n",
      "Iteration 300000 : Loss 2970.4876\n",
      "test mse : 3001.8762686279442\n",
      "Iteration 320000 : Loss 2970.4810\n",
      "test mse : 3001.6631856559825\n",
      "Iteration 340000 : Loss 2970.4755\n",
      "test mse : 3001.4715039261887\n",
      "Iteration 360000 : Loss 2970.4710\n",
      "test mse : 3001.2987710704256\n",
      "Iteration 380000 : Loss 2970.4673\n",
      "test mse : 3001.1429428101997\n",
      "Iteration 400000 : Loss 2970.4643\n",
      "test mse : 3001.0022635444047\n",
      "Iteration 420000 : Loss 2970.4619\n",
      "test mse : 3000.8751971924166\n",
      "Iteration 440000 : Loss 2970.4598\n",
      "test mse : 3000.7603843939723\n",
      "Iteration 460000 : Loss 2970.4582\n",
      "test mse : 3000.656613894314\n",
      "Iteration 480000 : Loss 2970.4568\n",
      "test mse : 3000.5628018754574\n",
      "Iteration 500000 : Loss 2970.4557\n",
      "test mse : 3000.4779759960065\n",
      "Iteration 520000 : Loss 2970.4547\n",
      "test mse : 3000.4012624243387\n",
      "Iteration 540000 : Loss 2970.4540\n",
      "test mse : 3000.3318749266837\n",
      "Iteration 560000 : Loss 2970.4534\n",
      "test mse : 3000.269105471905\n",
      "Iteration 580000 : Loss 2970.4529\n",
      "test mse : 3000.2123160246474\n",
      "Iteration 600000 : Loss 2970.4524\n",
      "test mse : 3000.1609313114404\n",
      "Iteration 620000 : Loss 2970.4521\n",
      "test mse : 3000.11443240774\n",
      "Iteration 640000 : Loss 2970.4518\n",
      "test mse : 3000.0723510311923\n",
      "Iteration 660000 : Loss 2970.4516\n",
      "test mse : 3000.0342644501507\n",
      "Iteration 680000 : Loss 2970.4514\n",
      "test mse : 2999.9997909324275\n",
      "Iteration 700000 : Loss 2970.4513\n",
      "test mse : 2999.9685856709834\n",
      "Iteration 720000 : Loss 2970.4511\n",
      "test mse : 2999.940337132216\n",
      "Iteration 740000 : Loss 2970.4510\n",
      "test mse : 2999.914763779671\n",
      "Iteration 760000 : Loss 2970.4509\n",
      "test mse : 2999.891611131986\n",
      "Iteration 780000 : Loss 2970.4509\n",
      "test mse : 2999.87064911889\n",
      "Iteration 800000 : Loss 2970.4508\n",
      "test mse : 2999.851669703416\n",
      "Iteration 820000 : Loss 2970.4508\n",
      "test mse : 2999.834484742089\n",
      "Iteration 840000 : Loss 2970.4507\n",
      "test mse : 2999.818924058202\n",
      "Iteration 860000 : Loss 2970.4507\n",
      "test mse : 2999.8048337060386\n",
      "Iteration 880000 : Loss 2970.4507\n",
      "test mse : 2999.792074406326\n",
      "Iteration 900000 : Loss 2970.4506\n",
      "test mse : 2999.7805201354217\n",
      "Iteration 920000 : Loss 2970.4506\n",
      "test mse : 2999.7700568526325\n",
      "Iteration 940000 : Loss 2970.4506\n",
      "test mse : 2999.760581351687\n",
      "Iteration 960000 : Loss 2970.4506\n",
      "test mse : 2999.752000223914\n",
      "Iteration 980000 : Loss 2970.4506\n",
      "test mse : 2999.744228921985\n",
      "Iteration 1000000 : Loss 2970.4506\n",
      "test mse : 2999.7371909142134\n"
     ]
    }
   ],
   "source": [
    "losses = []\n",
    "# 재학습\n",
    "LEARNING_RATE=0.02\n",
    "for i in range(1, 1000001):\n",
    "    dW, db = gradient(X_train, W, b, y_train)\n",
    "    W -= LEARNING_RATE * dW\n",
    "    b -= LEARNING_RATE * db\n",
    "    L = loss(X_train, W, b, y_train)\n",
    "    losses.append(L)\n",
    "    if i % 20000 == 0:\n",
    "        print('Iteration %d : Loss %0.4f' % (i, L))\n",
    "        prediction = model(X_test, W, b)\n",
    "        mse = loss(X_test, W, b, y_test)\n",
    "        print('test mse : ' + str(mse))\n"
   ]
  },
  {
   "cell_type": "code",
   "execution_count": 15,
   "id": "878433f0",
   "metadata": {},
   "outputs": [
    {
     "data": {
      "text/plain": [
       "2999.7371909142134"
      ]
     },
     "execution_count": 15,
     "metadata": {},
     "output_type": "execute_result"
    }
   ],
   "source": [
    "prediction = model(X_test, W, b)\n",
    "mse = loss(X_test, W, b, y_test)\n",
    "mse"
   ]
  },
  {
   "cell_type": "code",
   "execution_count": 16,
   "id": "86c1cc98",
   "metadata": {},
   "outputs": [
    {
     "data": {
      "image/png": "[encoded data removed]",
      "text/plain": [
       "<Figure size 432x288 with 1 Axes>"
      ]
     },
     "metadata": {
      "needs_background": "light"
     },
     "output_type": "display_data"
    }
   ],
   "source": [
    "plt.scatter(X_test[:, 0], y_test)\n",
    "plt.scatter(X_test[:, 0], prediction)\n",
    "plt.show()"
   ]
  }
 ],
 "metadata": {
  "kernelspec": {
   "display_name": "Python 3 (ipykernel)",
   "language": "python",
   "name": "python3"
  },
  "language_info": {
   "codemirror_mode": {
    "name": "ipython",
    "version": 3
   },
   "file_extension": ".py",
   "mimetype": "text/x-python",
   "name": "python",
   "nbconvert_exporter": "python",
   "pygments_lexer": "ipython3",
   "version": "3.9.7"
  }
 },
 "nbformat": 4,
 "nbformat_minor": 5
}
