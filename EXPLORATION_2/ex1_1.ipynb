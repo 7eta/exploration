{
 "cells": [
  {
   "cell_type": "code",
   "execution_count": 11,
   "id": "0ef78a92",
   "metadata": {},
   "outputs": [
    {
     "name": "stdout",
     "output_type": "stream",
     "text": [
      "(442, 10)\n",
      "(442, 1)\n"
     ]
    }
   ],
   "source": [
    "# (1)데이터 가져오기\n",
    "from sklearn.datasets import load_diabetes\n",
    "import pandas as pd\n",
    "import numpy as np\n",
    "diabetes=load_diabetes()\n",
    "df_X=pd.DataFrame(diabetes.data, columns=diabetes.feature_names)\n",
    "df_y=pd.DataFrame(diabetes.target, columns=['target'])\n",
    "print(df_X.shape)\n",
    "print(df_y.shape)\n",
    "# print(type(df_X))\n",
    "# print(type(df_y))"
   ]
  },
  {
   "cell_type": "code",
   "execution_count": 12,
   "id": "afa6e291",
   "metadata": {},
   "outputs": [],
   "source": [
    "# (2) 모델에 입력할 데이터 X 준비하기\n",
    "X = df_X.values"
   ]
  },
  {
   "cell_type": "code",
   "execution_count": 33,
   "id": "5aaae13c",
   "metadata": {},
   "outputs": [],
   "source": [
    "# (3) 모델에 예측할 데이터 y 준비하기\n",
    "Y = df_y['target'].values"
   ]
  },
  {
   "cell_type": "code",
   "execution_count": 34,
   "id": "438d6d27",
   "metadata": {},
   "outputs": [],
   "source": [
    "# (4) train 데이터와 test 데이터로 분리하기\n",
    "from sklearn.model_selection import train_test_split\n",
    "X_train, X_test, y_train, y_test = train_test_split(X, Y, test_size=0.2, random_state=1)"
   ]
  },
  {
   "cell_type": "code",
   "execution_count": 70,
   "id": "ad557182",
   "metadata": {},
   "outputs": [],
   "source": [
    "# (5) 모델 준비하기\n",
    "W = np.random.rand(10)\n",
    "b = np.random.rand()\n",
    "# 모델함수\n",
    "def model(X, W, b):\n",
    "    predictions = 0\n",
    "    for i in range(10):\n",
    "        predictions += X[:, i] * W[i]\n",
    "    predictions += b\n",
    "    return predictions"
   ]
  },
  {
   "cell_type": "code",
   "execution_count": 26,
   "id": "cc729c06",
   "metadata": {},
   "outputs": [],
   "source": [
    "# (6) 손실함수 loss 정의하기\n",
    "def MSE(a, b):\n",
    "    mse = ((a - b) ** 2).mean()  # 두 값의 차이의 제곱의 평균\n",
    "    return mse\n",
    "def loss(X, W, b, y):\n",
    "    predictions = model(X, W, b)\n",
    "    L = MSE(predictions, y)\n",
    "    return L"
   ]
  },
  {
   "cell_type": "code",
   "execution_count": 28,
   "id": "c6c81120",
   "metadata": {},
   "outputs": [],
   "source": [
    "# (7) 기울기를 구하는 gradient 함수 구현하기\n",
    "def gradient(X, W, b, y):\n",
    "    # N은 데이터 포인트의 개수\n",
    "    N = len(y)\n",
    "    \n",
    "    # y_pred 준비\n",
    "    y_pred = model(X, W, b)\n",
    "    \n",
    "    # 공식에 맞게 gradient 계산\n",
    "    dW = 1/N * 2 * X.T.dot(y_pred - y)\n",
    "        \n",
    "    # b의 gradient 계산\n",
    "    db = 2 * (y_pred - y).mean()\n",
    "    return dW, db"
   ]
  },
  {
   "cell_type": "code",
   "execution_count": 45,
   "id": "128fbb37",
   "metadata": {},
   "outputs": [],
   "source": [
    "# (8) 하이퍼 파라미터인 학습률 설정하기\n",
    "LEARNING_RATE = 0.001"
   ]
  },
  {
   "cell_type": "code",
   "execution_count": 71,
   "id": "3ce08139",
   "metadata": {},
   "outputs": [
    {
     "name": "stdout",
     "output_type": "stream",
     "text": [
      "Iteration 1000 : Loss 6408.8774\n",
      "Iteration 2000 : Loss 5910.1699\n",
      "Iteration 3000 : Loss 5825.4334\n",
      "Iteration 4000 : Loss 5750.6542\n",
      "Iteration 5000 : Loss 5678.3794\n",
      "Iteration 6000 : Loss 5608.3928\n",
      "Iteration 7000 : Loss 5540.6132\n",
      "Iteration 8000 : Loss 5474.9646\n",
      "Iteration 9000 : Loss 5411.3734\n",
      "Iteration 10000 : Loss 5349.7691\n",
      "Iteration 11000 : Loss 5290.0833\n",
      "Iteration 12000 : Loss 5232.2503\n",
      "Iteration 13000 : Loss 5176.2065\n",
      "Iteration 14000 : Loss 5121.8906\n",
      "Iteration 15000 : Loss 5069.2436\n",
      "Iteration 16000 : Loss 5018.2085\n",
      "Iteration 17000 : Loss 4968.7303\n",
      "Iteration 18000 : Loss 4920.7559\n",
      "Iteration 19000 : Loss 4874.2342\n",
      "Iteration 20000 : Loss 4829.1158\n",
      "Iteration 21000 : Loss 4785.3530\n",
      "Iteration 22000 : Loss 4742.8999\n",
      "Iteration 23000 : Loss 4701.7122\n",
      "Iteration 24000 : Loss 4661.7472\n",
      "Iteration 25000 : Loss 4622.9634\n",
      "Iteration 26000 : Loss 4585.3212\n",
      "Iteration 27000 : Loss 4548.7821\n",
      "Iteration 28000 : Loss 4513.3091\n",
      "Iteration 29000 : Loss 4478.8663\n",
      "Iteration 30000 : Loss 4445.4193\n",
      "Iteration 31000 : Loss 4412.9348\n",
      "Iteration 32000 : Loss 4381.3807\n",
      "Iteration 33000 : Loss 4350.7260\n",
      "Iteration 34000 : Loss 4320.9407\n",
      "Iteration 35000 : Loss 4291.9960\n",
      "Iteration 36000 : Loss 4263.8641\n",
      "Iteration 37000 : Loss 4236.5180\n",
      "Iteration 38000 : Loss 4209.9318\n",
      "Iteration 39000 : Loss 4184.0805\n",
      "Iteration 40000 : Loss 4158.9399\n",
      "Iteration 41000 : Loss 4134.4867\n",
      "Iteration 42000 : Loss 4110.6985\n",
      "Iteration 43000 : Loss 4087.5534\n",
      "Iteration 44000 : Loss 4065.0305\n",
      "Iteration 45000 : Loss 4043.1096\n",
      "Iteration 46000 : Loss 4021.7711\n",
      "Iteration 47000 : Loss 4000.9963\n",
      "Iteration 48000 : Loss 3980.7668\n",
      "Iteration 49000 : Loss 3961.0652\n",
      "Iteration 50000 : Loss 3941.8744\n",
      "Iteration 51000 : Loss 3923.1782\n",
      "Iteration 52000 : Loss 3904.9606\n",
      "Iteration 53000 : Loss 3887.2065\n",
      "Iteration 54000 : Loss 3869.9011\n",
      "Iteration 55000 : Loss 3853.0302\n",
      "Iteration 56000 : Loss 3836.5801\n",
      "Iteration 57000 : Loss 3820.5374\n",
      "Iteration 58000 : Loss 3804.8895\n",
      "Iteration 59000 : Loss 3789.6238\n",
      "Iteration 60000 : Loss 3774.7286\n",
      "Iteration 61000 : Loss 3760.1922\n",
      "Iteration 62000 : Loss 3746.0036\n",
      "Iteration 63000 : Loss 3732.1519\n",
      "Iteration 64000 : Loss 3718.6268\n",
      "Iteration 65000 : Loss 3705.4182\n",
      "Iteration 66000 : Loss 3692.5166\n",
      "Iteration 67000 : Loss 3679.9124\n",
      "Iteration 68000 : Loss 3667.5967\n",
      "Iteration 69000 : Loss 3655.5607\n",
      "Iteration 70000 : Loss 3643.7961\n",
      "Iteration 71000 : Loss 3632.2945\n",
      "Iteration 72000 : Loss 3621.0483\n",
      "Iteration 73000 : Loss 3610.0497\n",
      "Iteration 74000 : Loss 3599.2914\n",
      "Iteration 75000 : Loss 3588.7663\n",
      "Iteration 76000 : Loss 3578.4676\n",
      "Iteration 77000 : Loss 3568.3885\n",
      "Iteration 78000 : Loss 3558.5228\n",
      "Iteration 79000 : Loss 3548.8641\n",
      "Iteration 80000 : Loss 3539.4065\n",
      "Iteration 81000 : Loss 3530.1443\n",
      "Iteration 82000 : Loss 3521.0717\n",
      "Iteration 83000 : Loss 3512.1834\n",
      "Iteration 84000 : Loss 3503.4743\n",
      "Iteration 85000 : Loss 3494.9391\n",
      "Iteration 86000 : Loss 3486.5730\n",
      "Iteration 87000 : Loss 3478.3713\n",
      "Iteration 88000 : Loss 3470.3294\n",
      "Iteration 89000 : Loss 3462.4429\n",
      "Iteration 90000 : Loss 3454.7076\n",
      "Iteration 91000 : Loss 3447.1191\n",
      "Iteration 92000 : Loss 3439.6737\n",
      "Iteration 93000 : Loss 3432.3673\n",
      "Iteration 94000 : Loss 3425.1963\n",
      "Iteration 95000 : Loss 3418.1570\n",
      "Iteration 96000 : Loss 3411.2459\n",
      "Iteration 97000 : Loss 3404.4596\n",
      "Iteration 98000 : Loss 3397.7949\n",
      "Iteration 99000 : Loss 3391.2485\n",
      "Iteration 100000 : Loss 3384.8174\n"
     ]
    }
   ],
   "source": [
    "# (9) 모델 학습하기\n",
    "losses = []\n",
    "\n",
    "for i in range(1, 100001):\n",
    "    dW, db = gradient(X_train, W, b, y_train)\n",
    "    W -= LEARNING_RATE * dW\n",
    "    b -= LEARNING_RATE * db\n",
    "    L = loss(X_train, W, b, y_train)\n",
    "    losses.append(L)\n",
    "    if i % 1000 == 0:\n",
    "        print('Iteration %d : Loss %0.4f' % (i, L))"
   ]
  },
  {
   "cell_type": "code",
   "execution_count": 72,
   "id": "61af5b9f",
   "metadata": {},
   "outputs": [
    {
     "data": {
      "text/plain": [
       "3298.5612064922148"
      ]
     },
     "execution_count": 72,
     "metadata": {},
     "output_type": "execute_result"
    }
   ],
   "source": [
    "# (10) test 데이터에 대한 성능 확인하기\n",
    "import matplotlib.pyplot as plt\n",
    "prediction = model(X_test, W, b)\n",
    "mse = loss(X_test, W, b, y_test)\n",
    "mse\n"
   ]
  },
  {
   "cell_type": "code",
   "execution_count": 73,
   "id": "1be2b1ba",
   "metadata": {},
   "outputs": [
    {
     "data": {
      "image/png": "[encoded data removed]",
      "text/plain": [
       "<Figure size 432x288 with 1 Axes>"
      ]
     },
     "metadata": {
      "needs_background": "light"
     },
     "output_type": "display_data"
    }
   ],
   "source": [
    "# (11) 정답 데이터와 예측한 데이터 시각화하기\n",
    "plt.scatter(X_test[:, 2], y_test)\n",
    "plt.scatter(X_test[:, 2], prediction)\n",
    "plt.show()"
   ]
  }
 ],
 "metadata": {
  "kernelspec": {
   "display_name": "Python 3 (ipykernel)",
   "language": "python",
   "name": "python3"
  },
  "language_info": {
   "codemirror_mode": {
    "name": "ipython",
    "version": 3
   },
   "file_extension": ".py",
   "mimetype": "text/x-python",
   "name": "python",
   "nbconvert_exporter": "python",
   "pygments_lexer": "ipython3",
   "version": "3.9.7"
  }
 },
 "nbformat": 4,
 "nbformat_minor": 5
}
