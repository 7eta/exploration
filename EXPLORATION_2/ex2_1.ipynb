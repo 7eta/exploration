{
 "cells": [
  {
   "cell_type": "code",
   "execution_count": 1,
   "id": "d3fd77fd",
   "metadata": {},
   "outputs": [
    {
     "name": "stdout",
     "output_type": "stream",
     "text": [
      "(442, 10)\n",
      "(442, 1)\n"
     ]
    }
   ],
   "source": [
    "# (1)데이터 가져오기\n",
    "from sklearn.datasets import load_diabetes\n",
    "import pandas as pd\n",
    "import numpy as np\n",
    "diabetes=load_diabetes()\n",
    "df_X=pd.DataFrame(diabetes.data, columns=diabetes.feature_names)\n",
    "df_y=pd.DataFrame(diabetes.target, columns=['target'])\n",
    "print(df_X.shape)\n",
    "print(df_y.shape)\n",
    "# print(type(df_X))\n",
    "# print(type(df_y))"
   ]
  },
  {
   "cell_type": "code",
   "execution_count": 2,
   "id": "06aafe34",
   "metadata": {},
   "outputs": [],
   "source": [
    "# (2) 모델에 입력할 데이터 X 준비하기\n",
    "X = df_X.values"
   ]
  },
  {
   "cell_type": "code",
   "execution_count": 3,
   "id": "d9af748e",
   "metadata": {},
   "outputs": [],
   "source": [
    "# (3) 모델에 예측할 데이터 y 준비하기\n",
    "Y = df_y['target'].values"
   ]
  },
  {
   "cell_type": "code",
   "execution_count": 4,
   "id": "fa483a25",
   "metadata": {},
   "outputs": [],
   "source": [
    "# (4) train 데이터와 test 데이터로 분리하기\n",
    "from sklearn.model_selection import train_test_split\n",
    "X_train, X_test, y_train, y_test = train_test_split(X, Y, test_size=0.2, random_state=1)"
   ]
  },
  {
   "cell_type": "code",
   "execution_count": 5,
   "id": "0d5090da",
   "metadata": {},
   "outputs": [],
   "source": [
    "# (5) 모델 준비하기\n",
    "W = np.random.rand(10)\n",
    "b = np.random.rand()\n",
    "# 모델함수\n",
    "def model(X, W, b):\n",
    "    predictions = 0\n",
    "    for i in range(10):\n",
    "        predictions += X[:, i] * W[i]\n",
    "    predictions += b\n",
    "    return predictions"
   ]
  },
  {
   "cell_type": "code",
   "execution_count": 6,
   "id": "c42fd6c6",
   "metadata": {},
   "outputs": [],
   "source": [
    "# (6) 손실함수 loss 정의하기\n",
    "def MSE(a, b):\n",
    "    mse = ((a - b) ** 2).mean()  # 두 값의 차이의 제곱의 평균\n",
    "    return mse\n",
    "def loss(X, W, b, y):\n",
    "    predictions = model(X, W, b)\n",
    "    L = MSE(predictions, y)\n",
    "    return L"
   ]
  },
  {
   "cell_type": "code",
   "execution_count": 7,
   "id": "a8fee2a5",
   "metadata": {},
   "outputs": [],
   "source": [
    "# (7) 기울기를 구하는 gradient 함수 구현하기\n",
    "def gradient(X, W, b, y):\n",
    "    # N은 데이터 포인트의 개수\n",
    "    N = len(y)\n",
    "    \n",
    "    # y_pred 준비\n",
    "    y_pred = model(X, W, b)\n",
    "    \n",
    "    # 공식에 맞게 gradient 계산\n",
    "    dW = 1/N * 2 * X.T.dot(y_pred - y)\n",
    "        \n",
    "    # b의 gradient 계산\n",
    "    db = 2 * (y_pred - y).mean()\n",
    "    return dW, db"
   ]
  },
  {
   "cell_type": "code",
   "execution_count": 8,
   "id": "e4963f29",
   "metadata": {},
   "outputs": [],
   "source": [
    "# (8) 하이퍼 파라미터인 학습률 설정하기\n",
    "LEARNING_RATE = 0.001"
   ]
  },
  {
   "cell_type": "code",
   "execution_count": 9,
   "id": "3265ad89",
   "metadata": {},
   "outputs": [
    {
     "name": "stdout",
     "output_type": "stream",
     "text": [
      "Iteration 1000 : Loss 6403.4727\n",
      "Iteration 2000 : Loss 5904.0225\n",
      "Iteration 3000 : Loss 5819.4972\n",
      "Iteration 4000 : Loss 5744.9386\n",
      "Iteration 5000 : Loss 5672.8768\n",
      "Iteration 6000 : Loss 5603.0956\n",
      "Iteration 7000 : Loss 5535.5140\n",
      "Iteration 8000 : Loss 5470.0561\n",
      "Iteration 9000 : Loss 5406.6490\n",
      "Iteration 10000 : Loss 5345.2220\n",
      "Iteration 11000 : Loss 5285.7072\n",
      "Iteration 12000 : Loss 5228.0389\n",
      "Iteration 13000 : Loss 5172.1540\n",
      "Iteration 14000 : Loss 5117.9913\n",
      "Iteration 15000 : Loss 5065.4919\n",
      "Iteration 16000 : Loss 5014.5991\n",
      "Iteration 17000 : Loss 4965.2581\n",
      "Iteration 18000 : Loss 4917.4160\n",
      "Iteration 19000 : Loss 4871.0218\n",
      "Iteration 20000 : Loss 4826.0262\n",
      "Iteration 21000 : Loss 4782.3819\n",
      "Iteration 22000 : Loss 4740.0430\n",
      "Iteration 23000 : Loss 4698.9654\n",
      "Iteration 24000 : Loss 4659.1065\n",
      "Iteration 25000 : Loss 4620.4250\n",
      "Iteration 26000 : Loss 4582.8814\n",
      "Iteration 27000 : Loss 4546.4373\n",
      "Iteration 28000 : Loss 4511.0558\n",
      "Iteration 29000 : Loss 4476.7014\n",
      "Iteration 30000 : Loss 4443.3395\n",
      "Iteration 31000 : Loss 4410.9371\n",
      "Iteration 32000 : Loss 4379.4620\n",
      "Iteration 33000 : Loss 4348.8835\n",
      "Iteration 34000 : Loss 4319.1717\n",
      "Iteration 35000 : Loss 4290.2978\n",
      "Iteration 36000 : Loss 4262.2341\n",
      "Iteration 37000 : Loss 4234.9538\n",
      "Iteration 38000 : Loss 4208.4310\n",
      "Iteration 39000 : Loss 4182.6408\n",
      "Iteration 40000 : Loss 4157.5591\n",
      "Iteration 41000 : Loss 4133.1627\n",
      "Iteration 42000 : Loss 4109.4291\n",
      "Iteration 43000 : Loss 4086.3367\n",
      "Iteration 44000 : Loss 4063.8647\n",
      "Iteration 45000 : Loss 4041.9927\n",
      "Iteration 46000 : Loss 4020.7015\n",
      "Iteration 47000 : Loss 3999.9721\n",
      "Iteration 48000 : Loss 3979.7864\n",
      "Iteration 49000 : Loss 3960.1271\n",
      "Iteration 50000 : Loss 3940.9770\n",
      "Iteration 51000 : Loss 3922.3200\n",
      "Iteration 52000 : Loss 3904.1402\n",
      "Iteration 53000 : Loss 3886.4225\n",
      "Iteration 54000 : Loss 3869.1522\n",
      "Iteration 55000 : Loss 3852.3151\n",
      "Iteration 56000 : Loss 3835.8976\n",
      "Iteration 57000 : Loss 3819.8863\n",
      "Iteration 58000 : Loss 3804.2686\n",
      "Iteration 59000 : Loss 3789.0321\n",
      "Iteration 60000 : Loss 3774.1649\n",
      "Iteration 61000 : Loss 3759.6556\n",
      "Iteration 62000 : Loss 3745.4930\n",
      "Iteration 63000 : Loss 3731.6664\n",
      "Iteration 64000 : Loss 3718.1655\n",
      "Iteration 65000 : Loss 3704.9803\n",
      "Iteration 66000 : Loss 3692.1010\n",
      "Iteration 67000 : Loss 3679.5185\n",
      "Iteration 68000 : Loss 3667.2236\n",
      "Iteration 69000 : Loss 3655.2077\n",
      "Iteration 70000 : Loss 3643.4623\n",
      "Iteration 71000 : Loss 3631.9794\n",
      "Iteration 72000 : Loss 3620.7511\n",
      "Iteration 73000 : Loss 3609.7698\n",
      "Iteration 74000 : Loss 3599.0281\n",
      "Iteration 75000 : Loss 3588.5190\n",
      "Iteration 76000 : Loss 3578.2357\n",
      "Iteration 77000 : Loss 3568.1715\n",
      "Iteration 78000 : Loss 3558.3200\n",
      "Iteration 79000 : Loss 3548.6751\n",
      "Iteration 80000 : Loss 3539.2307\n",
      "Iteration 81000 : Loss 3529.9812\n",
      "Iteration 82000 : Loss 3520.9209\n",
      "Iteration 83000 : Loss 3512.0445\n",
      "Iteration 84000 : Loss 3503.3467\n",
      "Iteration 85000 : Loss 3494.8224\n",
      "Iteration 86000 : Loss 3486.4669\n",
      "Iteration 87000 : Loss 3478.2753\n",
      "Iteration 88000 : Loss 3470.2432\n",
      "Iteration 89000 : Loss 3462.3661\n",
      "Iteration 90000 : Loss 3454.6398\n",
      "Iteration 91000 : Loss 3447.0600\n",
      "Iteration 92000 : Loss 3439.6229\n",
      "Iteration 93000 : Loss 3432.3246\n",
      "Iteration 94000 : Loss 3425.1613\n",
      "Iteration 95000 : Loss 3418.1295\n",
      "Iteration 96000 : Loss 3411.2255\n",
      "Iteration 97000 : Loss 3404.4461\n",
      "Iteration 98000 : Loss 3397.7880\n",
      "Iteration 99000 : Loss 3391.2479\n",
      "Iteration 100000 : Loss 3384.8229\n"
     ]
    }
   ],
   "source": [
    "# (9) 모델 학습하기\n",
    "losses = []\n",
    "\n",
    "for i in range(1, 100001):\n",
    "    dW, db = gradient(X_train, W, b, y_train)\n",
    "    W -= LEARNING_RATE * dW\n",
    "    b -= LEARNING_RATE * db\n",
    "    L = loss(X_train, W, b, y_train)\n",
    "    losses.append(L)\n",
    "    if i % 1000 == 0:\n",
    "        print('Iteration %d : Loss %0.4f' % (i, L))"
   ]
  },
  {
   "cell_type": "code",
   "execution_count": 10,
   "id": "9e6a932c",
   "metadata": {},
   "outputs": [
    {
     "data": {
      "text/plain": [
       "3298.556377210541"
      ]
     },
     "execution_count": 10,
     "metadata": {},
     "output_type": "execute_result"
    }
   ],
   "source": [
    "# (10) test 데이터에 대한 성능 확인하기\n",
    "import matplotlib.pyplot as plt\n",
    "prediction = model(X_test, W, b)\n",
    "mse = loss(X_test, W, b, y_test)\n",
    "mse\n"
   ]
  },
  {
   "cell_type": "code",
   "execution_count": 11,
   "id": "91e60440",
   "metadata": {},
   "outputs": [
    {
     "data": {
      "image/png": "[encoded data removed]",
      "text/plain": [
       "<Figure size 432x288 with 1 Axes>"
      ]
     },
     "metadata": {
      "needs_background": "light"
     },
     "output_type": "display_data"
    }
   ],
   "source": [
    "# (11) 정답 데이터와 예측한 데이터 시각화하기\n",
    "plt.scatter(X_test[:, 0], y_test)\n",
    "plt.scatter(X_test[:, 0], prediction)\n",
    "plt.show()"
   ]
  }
 ],
 "metadata": {
  "kernelspec": {
   "display_name": "Python 3 (ipykernel)",
   "language": "python",
   "name": "python3"
  },
  "language_info": {
   "codemirror_mode": {
    "name": "ipython",
    "version": 3
   },
   "file_extension": ".py",
   "mimetype": "text/x-python",
   "name": "python",
   "nbconvert_exporter": "python",
   "pygments_lexer": "ipython3",
   "version": "3.9.7"
  }
 },
 "nbformat": 4,
 "nbformat_minor": 5
}
